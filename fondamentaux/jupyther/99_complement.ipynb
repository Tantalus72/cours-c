{
 "cells": [
  {
   "cell_type": "markdown",
   "metadata": {},
   "source": [
    "Lien Utiles :\n",
    "<br>\n",
    "<br>https://lucidar.me/fr/c-class/learn-c-programming/\n",
    "<br>https://youtu.be/KJgsSFOSQv0?feature=shared"
   ]
  },
  {
   "cell_type": "markdown",
   "metadata": {},
   "source": [
    "| Ligne en C| Équivalent en Python| Explication|\n",
    "|---|---|---|\n",
    "| `int x = 5;`| `x = 5`| En Python, on peut déclarer une variable directement sans spécifier son type|\n",
    "| `float y = 3.14;`| `y = 3.14`| Idem pour les nombres à virgule flottante|\n",
    "| `char c = 'a';`| `c = 'a'`| Les chaînes de caractères simples ou multiples sont des objets `str`|\n",
    "| `int tab[5] = {1,2,3,4,5};`| `tab = [1, 2, 3, 4, 5]`| Les tableaux en C deviennent des listes en Python|\n",
    "| `int *ptr;`| `# NA`| Python ne gère pas les pointeurs|\n",
    "| `struct Point { ... };`| `class Point: ...`| Les structures C sont remplacées par des classes en Python|\n",
    "| `if (x > 0) { ... }`| `if x > 0:`| La synthaxe est différente|\n",
    "| `else if (x < 0) { ... }`| `elif x < 0:`| Pas de `else if` en Python mais `elif`|\n",
    "| `else { ... }`| `else:`| Syntaxe similaire |\n",
    "| `for (int i = 0; i < n; i++)`| `for i in range(n):`| Les boucles `for` sont simplifiées avec `range()` en Python|\n",
    "| `while (x > 0) { ... }`| `while x > 0:`| Syntaxe similaire|\n",
    "| `break;`| `break`| Utilisé pour sortir des boucles|\n",
    "| `continue;`| `continue`| Saute l’itération actuelle et passe à la suivante|\n",
    "| `try { ... } catch { ... }`| `try: ... except:`| La gestion des exceptions en Python se fait avec `try` et `except`|\n",
    "| `printf(\"%d\", x);`| `print(x)`| Utilisation de la fonction `print()` pour afficher en Python|\n",
    "| `scanf(\"%d\", &x);`| `x = int(input())`| Utilisation de `input()` pour obtenir une saisie utilisateur|\n",
    "| `strlen(str)`| `len(str)`| Renvoie la longueur d'une chaîne|\n",
    "| `strcpy(dest, src)`| `dest = src`| |\n",
    "| `strcmp(str1, str2)`| `str1 == str2`| |\n",
    "| `malloc(sizeof(int) * n)`| `# NA`| Python gère automatiquement la mémoire donc pas de `malloc`|\n",
    "| `free(ptr)`| `# NA`| Pas d’équivalent direct en Python car il est intégré|\n",
    "| `int result = add(2, 3);`| `result = add(2, 3)`| Les appels de fonction sont similaires en syntaxe|\n",
    "| `#define PI 3.14`| `PI = 3.14`| Constante qu'on peut importer |\n"
   ]
  },
  {
   "cell_type": "markdown",
   "metadata": {},
   "source": [
    "Exemple 1 :\n",
    "```c\n",
    "#include <stdio.h>\n",
    "\n",
    "int main() {\n",
    "    int x = 10;          // declare une variable `x` et initialise sa valeur à 10\n",
    "    int *ptr = &x;       // declare un pointeur `ptr` qui contient l'adresse de `x`\n",
    "\n",
    "    // Affichage des valeurs\n",
    "    printf(\"Valeur de x: %d\\n\", x);           // Affiche la valeur de `x`\n",
    "    printf(\"Adresse de x: %p\\n\", &x);         // Affiche l'adresse mémoire de `x`\n",
    "    printf(\"Valeur de ptr: %p\\n\", ptr);       // Affiche ce que `ptr` stocke : l'adresse de `x`\n",
    "    printf(\"Valeur pointée par ptr: %d\\n\", *ptr); // Affiche la valeur à l'adresse pointée par `ptr`\n",
    "\n",
    "    // Modifier la valeur de x via le pointeur\n",
    "    *ptr = 20;          // Change la valeur de `x` en utilisant le pointeur\n",
    "    printf(\"Nouvelle valeur de x: %d\\n\", x);  // Vérifie que `x` a bien été modifié\n",
    "\n",
    "    return 0;\n",
    "}\n",
    "```\n",
    "Exemple 2 : \n",
    "```c\n",
    "void increment(int *ptr) {\n",
    "    *ptr += 1;  // Modifie la valeur à l'adresse pointée\n",
    "}\n",
    "\n",
    "int main() {\n",
    "    int x = 10;\n",
    "    increment(&x);  // Passe l'adresse de x\n",
    "    printf(\"Nouvelle valeur de x : %d\\n\", x);  // Affiche 11\n",
    "    return 0;\n",
    "}\n",
    "```\n",
    "Permettent de modifier une variable sans y avoir accès directement (quand la variable est déclarée dans une fonction différente)\n",
    "<br>\n",
    "Les pointeurs sont utiles quand on veut traiter des tableaux, gérer la memoire de manniére dynamique ou modifier des valeurs qui sont dans un autre bloc. \n"
   ]
  }
 ],
 "metadata": {
  "language_info": {
   "name": "python"
  }
 },
 "nbformat": 4,
 "nbformat_minor": 2
}
